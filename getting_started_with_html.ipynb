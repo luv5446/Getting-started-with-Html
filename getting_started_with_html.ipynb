{
  "nbformat": 4,
  "nbformat_minor": 0,
  "metadata": {
    "colab": {
      "provenance": []
    },
    "kernelspec": {
      "name": "python3",
      "display_name": "Python 3"
    },
    "language_info": {
      "name": "python"
    }
  },
  "cells": [
    {
      "cell_type": "markdown",
      "source": [
        " 1. Write a simple program in HTML  that displays the heading \"HTML defines the content and structure of\n",
        "your website” on the web browser?"
      ],
      "metadata": {
        "id": "if6rAJG5vxvO"
      }
    },
    {
      "cell_type": "markdown",
      "source": [
        "Ans - <!DOCTYPE html>\n",
        "<html>\n",
        "<head>\n",
        "    <title>Simple HTML Page</title>\n",
        "</head>\n",
        "<body>\n",
        "    <h1>HTML defines the content and structure of your website</h1>\n",
        "</body>\n",
        "</html>\n"
      ],
      "metadata": {
        "id": "IKbiVumNxXqJ"
      }
    },
    {
      "cell_type": "markdown",
      "source": [],
      "metadata": {
        "id": "CnEqUOB7RvLl"
      }
    },
    {
      "cell_type": "markdown",
      "source": [
        " 2. Explain the purpose of comments in HTML and provide an example of how to use comments in an HTML\n",
        "document?\n",
        "\n",
        "Ans - Comments in HTML are used to add notes, explanations, or reminders within the code. These comments are not displayed in the browser — they are only visible in the source code.\n",
        "\n",
        " ▶  Example of Comments in an HTML Document:\n",
        "\n",
        " <!DOCTYPE html>\n",
        "<html>\n",
        "<head>\n",
        "    <title>Comment Example</title>\n",
        "</head>\n",
        "<body>\n",
        "\n",
        "    <!-- This is the main heading of the page -->\n",
        "    <h1>Welcome to My Website</h1>\n",
        "\n",
        "    <!-- The paragraph below gives a short intro -->\n",
        "    <p>This website is all about learning HTML basics.</p>\n",
        "\n",
        "    <!-- TODO: Add more content here later -->\n",
        "\n",
        "</body>\n",
        "</html>\n",
        "\n",
        "\n",
        "3. Write an HTML program that includes a heading, a paragraph of text, a horizontal line, and a line break.\n",
        "Arrange these elements to create a simple web page layout?\n",
        "\n",
        "\n",
        "\n",
        "\n",
        "     \n"
      ],
      "metadata": {
        "id": "EnaVDUPNRxTC"
      }
    },
    {
      "cell_type": "markdown",
      "source": [
        "Ans -  <!DOCTYPE html>\n",
        "<html>\n",
        "<head>\n",
        "    <title> Web Page</title>\n",
        "</head>\n",
        "<body>\n",
        "\n",
        "    <h1>Welcome to My  Web Page</h1>\n",
        "\n",
        "    <p>This is a paragraph of text that explains the content of the page.\n",
        "    <br>\n",
        "    It continues here after a line break.</p>\n",
        "\n",
        "    <hr>\n",
        "\n",
        "    <p>Thank you for visiting!</p>\n",
        "\n",
        "</body>\n",
        "</html>\n"
      ],
      "metadata": {
        "id": "CTxoo9rzUJb7"
      }
    },
    {
      "cell_type": "markdown",
      "source": [
        "4. Write a short note on Tag and element with an example?\n",
        "\n",
        "Ans - **Tag** - A tag is a part of HTML code that defines how content should be displayed. Tags are usually enclosed in angle brackets: < >.\n",
        "\n",
        "Example:  <p> this is paragraph </p>\n",
        "\n",
        "**Element** - An element includes the opening tag, content, and closing tag. It is the complete structure.  \n",
        "\n",
        "example - <h1> hello </h>\n",
        "\n",
        "\n",
        "\n",
        "5.   What is the DOCTYPE Declaration in HTML?\n",
        "\n",
        "Ans -\n",
        "The DOCTYPE declaration is an instruction that tells the web browser what version of HTML the page is written in — so the browser knows how to render it correctly.\n",
        "\n"
      ],
      "metadata": {
        "id": "GO61alJwUmkx"
      }
    }
  ]
}